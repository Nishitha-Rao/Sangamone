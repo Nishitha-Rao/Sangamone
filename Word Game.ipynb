{
 "cells": [
  {
   "cell_type": "code",
   "execution_count": 2,
   "id": "76fb73a9-0ea0-48b2-9fcc-4e47df1e2b3c",
   "metadata": {},
   "outputs": [
    {
     "name": "stdin",
     "output_type": "stream",
     "text": [
      " asdd\n"
     ]
    },
    {
     "name": "stdout",
     "output_type": "stream",
     "text": [
      "Round 1  asdd - dirty\n"
     ]
    },
    {
     "name": "stdin",
     "output_type": "stream",
     "text": [
      " asd\n"
     ]
    },
    {
     "name": "stdout",
     "output_type": "stream",
     "text": [
      "Round 2  asd - dirty\n"
     ]
    },
    {
     "name": "stdin",
     "output_type": "stream",
     "text": [
      " zxc\n"
     ]
    },
    {
     "name": "stdout",
     "output_type": "stream",
     "text": [
      "Round 3  zxc - cat\n"
     ]
    },
    {
     "name": "stdin",
     "output_type": "stream",
     "text": [
      " zxc\n"
     ]
    },
    {
     "name": "stdout",
     "output_type": "stream",
     "text": [
      "Round 4  zxc - cat\n"
     ]
    },
    {
     "name": "stdin",
     "output_type": "stream",
     "text": [
      " zxc\n"
     ]
    },
    {
     "name": "stdout",
     "output_type": "stream",
     "text": [
      "Round 5  zxc - cat\n"
     ]
    },
    {
     "name": "stdin",
     "output_type": "stream",
     "text": [
      " sdf\n"
     ]
    },
    {
     "name": "stdout",
     "output_type": "stream",
     "text": [
      "Round 6  sdf - friend\n"
     ]
    },
    {
     "name": "stdin",
     "output_type": "stream",
     "text": [
      " df\n"
     ]
    },
    {
     "name": "stdout",
     "output_type": "stream",
     "text": [
      "Round 7  df - friend\n"
     ]
    },
    {
     "name": "stdin",
     "output_type": "stream",
     "text": [
      " xcv\n"
     ]
    },
    {
     "name": "stdout",
     "output_type": "stream",
     "text": [
      "Round 8  xcv - voilin\n"
     ]
    },
    {
     "name": "stdin",
     "output_type": "stream",
     "text": [
      " fg\n"
     ]
    },
    {
     "name": "stdout",
     "output_type": "stream",
     "text": [
      "Round 9  fg - goat\n"
     ]
    },
    {
     "name": "stdin",
     "output_type": "stream",
     "text": [
      " bv\n"
     ]
    },
    {
     "name": "stdout",
     "output_type": "stream",
     "text": [
      "Round 10  bv - voilin\n"
     ]
    }
   ],
   "source": [
    "\n",
    "master = []\n",
    "listA = [\"apple\",\"add\"]\n",
    "listB = [\"bat\",\"ball\"]\n",
    "listC = [\"cat\",\"camera\"]\n",
    "listD = [\"dirty\",\"domestic\"]\n",
    "listE=[\"elephant\",\"ear\"]\n",
    "listF=[\"friend\", \"famous\"]\n",
    "listG=[\"goat\",\"gun\",\"Ground\"]\n",
    "listH=[\"horse\",\"hat\",\"humble\"]\n",
    "listI=[\"important\",\"indication\"]\n",
    "listJ=[\"jewellry\",\"joke\"]\n",
    "listK=[\"key\",\"kilogram\"]\n",
    "listL=[\"light\",\"lemon\"]\n",
    "listM=[\"man\",\"mat\"]\n",
    "listN=[\"nest\",\"nature\"]\n",
    "listO=[\"orange\",\"owl\",\"origin\",\"omission\"]\n",
    "listP=[\"pen\",\"paper\",\"person\"]\n",
    "listQ=[\"queue\",\"quiz\"]\n",
    "listR=[\"red\",\"rainbow\"]\n",
    "listS=[\"strong\",\"smile\"]\n",
    "listT=[\"train\",\"tea\"]\n",
    "listU=[\"umbrella\",\"ugly\"]\n",
    "listV=[\"voilin\",\"victory\"]\n",
    "listW=[\"water\",\"waste\",\"watch\",\"war\"]\n",
    "listX=[\"xmas\",\"xerox\"]\n",
    "listY=[\"yellow\",\"yak\"]\n",
    "listZ=[\"zebra\",\"zero\",\"zoo\"]\n",
    "master.append(listA)\n",
    "master.append(listB)\n",
    "master.append(listC)\n",
    "master.append(listD)\n",
    "master.append(listE)\n",
    "master.append(listF)\n",
    "master.append(listG)\n",
    "master.append(listH)\n",
    "master.append(listI)\n",
    "master.append(listJ)\n",
    "master.append(listK)\n",
    "master.append(listL)\n",
    "master.append(listM)\n",
    "master.append(listN)\n",
    "master.append(listO)\n",
    "master.append(listP)\n",
    "master.append(listQ)\n",
    "master.append(listR)\n",
    "master.append(listS)\n",
    "master.append(listT)\n",
    "master.append(listU)\n",
    "master.append(listV)\n",
    "master.append(listW)\n",
    "master.append(listX)\n",
    "master.append(listY)\n",
    "master.append(listZ)\n",
    "alpha = [\"a\",\"b\",\"c\",\"d\",\"e\",\"f\",\"g\",\"h\",\"i\",\"j\",\"k\",\"l\",\"m\",\"n\",\"o\",\"p\",\"q\",\"r\",\"s\",\"t\",\"u\",\"v\",\"w\",\"x\",\"y\",\"z\"]\n",
    "for i in range(0,10,1):\n",
    "    s1 = input()\n",
    "    len1 = len(s1)\n",
    "    char1 = s1[len1 - 1]\n",
    "    position = alpha.index(char1)\n",
    "    s2=master[position][0]\n",
    "    \n",
    "    print(\"Round \"+str(i+1)+\" \",s1,\"-\",s2)\n"
   ]
  },
  {
   "cell_type": "code",
   "execution_count": null,
   "id": "6e1f8fd9-0877-426d-bbad-ae5c2d3c0254",
   "metadata": {},
   "outputs": [],
   "source": []
  }
 ],
 "metadata": {
  "kernelspec": {
   "display_name": "Python 3 (ipykernel)",
   "language": "python",
   "name": "python3"
  },
  "language_info": {
   "codemirror_mode": {
    "name": "ipython",
    "version": 3
   },
   "file_extension": ".py",
   "mimetype": "text/x-python",
   "name": "python",
   "nbconvert_exporter": "python",
   "pygments_lexer": "ipython3",
   "version": "3.11.4"
  }
 },
 "nbformat": 4,
 "nbformat_minor": 5
}
