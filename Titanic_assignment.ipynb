{
 "cells": [
  {
   "cell_type": "code",
   "execution_count": 22,
   "id": "6e8908f3-ab5f-4598-b46a-08a5ac567143",
   "metadata": {},
   "outputs": [
    {
     "name": "stdout",
     "output_type": "stream",
     "text": [
      "Total Survived: 342\n",
      "Total Deceased: 549\n",
      "Total Male: 577\n",
      "Total male survived:  109\n",
      "Total male deceased:  468\n",
      "Total Female: 314\n",
      "Total female survived:  233\n",
      "Total female deceased:  81\n",
      "Total Others: 0\n"
     ]
    }
   ],
   "source": [
    "import pandas as pd\n",
    "\n",
    "# Read the CSV file into a Pandas DataFrame\n",
    "df = pd.read_csv(\"titanic (1).csv\")\n",
    "\n",
    "# Count the total number of survived and deceased\n",
    "total_survived = df['Survived'].sum()\n",
    "total_deceased = len(df) - total_survived\n",
    "\n",
    "# Count the total number of males, females, and others (survived and deceased)\n",
    "total_male = df[df['Sex'] == 'male'].shape[0]\n",
    "total_female = df[df['Sex'] == 'female'].shape[0]\n",
    "total_others = df[df['Sex'].isin(['', 'other'])].shape[0]\n",
    "\n",
    "total_male_survived = df[(df['Sex'] == 'male') & (df['Survived'] == 1)].shape[0]\n",
    "total_male_deceased = total_male - total_male_survived\n",
    "total_female_survived = df[(df['Sex'] == 'female') & (df['Survived'] == 1)].shape[0]\n",
    "total_female_deceased = total_female - total_female_survived\n",
    "# Print the results\n",
    "print(\"Total Survived:\", total_survived)\n",
    "print(\"Total Deceased:\", total_deceased)\n",
    "print(\"Total Male:\", total_male)\n",
    "print(\"Total male survived: \",total_male_survived)\n",
    "print(\"Total male deceased: \",total_male_deceased)\n",
    "\n",
    "print(\"Total Female:\", total_female)\n",
    "print(\"Total female survived: \",total_female_survived)\n",
    "print(\"Total female deceased: \",total_female_deceased)\n",
    "\n",
    "print(\"Total Others:\", total_others)\n",
    "\n"
   ]
  },
  {
   "cell_type": "code",
   "execution_count": 25,
   "id": "47fa3052-ae92-4470-84ca-9e46a0efdac0",
   "metadata": {},
   "outputs": [
    {
     "name": "stdout",
     "output_type": "stream",
     "text": [
      "Total Children: 62\n",
      "Total Children survived: 38\n",
      "Total Children deceased: 24\n"
     ]
    }
   ],
   "source": [
    "df['Age'] = df['Age'].replace('', 40)\n",
    "total_children = df[df['Age'] < 10].shape[0]\n",
    "print(\"Total Children:\", total_children)\n",
    "#to find the number of children deceased and survived \n",
    "total_children_survived = df[(df['Age'] < 10) & (df['Survived'] == 1)].shape[0]\n",
    "total_children_deceased = total_children - total_children_survived\n",
    "print(\"Total Children survived:\", total_children_survived)\n",
    "print(\"Total Children deceased:\", total_children_deceased)"
   ]
  },
  {
   "cell_type": "code",
   "execution_count": null,
   "id": "21e1a14e-1172-4c1c-8c3f-0ba7869b441f",
   "metadata": {},
   "outputs": [],
   "source": []
  }
 ],
 "metadata": {
  "kernelspec": {
   "display_name": "Python 3 (ipykernel)",
   "language": "python",
   "name": "python3"
  },
  "language_info": {
   "codemirror_mode": {
    "name": "ipython",
    "version": 3
   },
   "file_extension": ".py",
   "mimetype": "text/x-python",
   "name": "python",
   "nbconvert_exporter": "python",
   "pygments_lexer": "ipython3",
   "version": "3.11.4"
  }
 },
 "nbformat": 4,
 "nbformat_minor": 5
}
